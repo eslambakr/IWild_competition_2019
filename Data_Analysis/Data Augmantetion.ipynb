{
 "cells": [
  {
   "cell_type": "markdown",
   "metadata": {},
   "source": [
    "## Load original labels:"
   ]
  },
  {
   "cell_type": "code",
   "execution_count": 23,
   "metadata": {},
   "outputs": [
    {
     "name": "stdout",
     "output_type": "stream",
     "text": [
      "78420\n",
      "height\n",
      "width\n",
      "category_id\n",
      "image_name\n",
      "bbox\n",
      "{'height': '747', 'width': '1024', 'category_id': 19, 'image_name': '5998cfa4-23d2-11e8-a6a3-ec086b02610b.jpg', 'bbox': [249.6, 355.84, 176.64000000000001, 99.83999999999997]}\n"
     ]
    }
   ],
   "source": [
    "import json\n",
    "import yaml\n",
    "\n",
    "with open('labels_original_idaho', 'r') as fout:    \n",
    "    #training_labels = json.load(fout)\n",
    "    training_labels = yaml.safe_load(fout)\n",
    "    print(len(training_labels))\n",
    "    for key in training_labels[0].keys():\n",
    "        print(key)\n",
    "print(training_labels[0])"
   ]
  },
  {
   "cell_type": "markdown",
   "metadata": {},
   "source": [
    "# Draw data analysis before augmantation:"
   ]
  },
  {
   "cell_type": "code",
   "execution_count": 2,
   "metadata": {},
   "outputs": [
    {
     "name": "stdout",
     "output_type": "stream",
     "text": [
      "num of category_id 1 =  [10490.]\n",
      "num of category_id 2 =  [20.]\n",
      "num of category_id 3 =  [6934.]\n",
      "num of category_id 4 =  [1927.]\n",
      "num of category_id 5 =  [2314.]\n",
      "num of category_id 6 =  [7.]\n",
      "num of category_id 7 =  [391.]\n",
      "num of category_id 8 =  [7915.]\n",
      "num of category_id 9 =  [231.]\n",
      "num of category_id 10 =  [2148.]\n",
      "num of category_id 11 =  [8286.]\n",
      "num of category_id 12 =  [663.]\n",
      "num of category_id 13 =  [9275.]\n",
      "num of category_id 14 =  [1821.]\n",
      "num of category_id 15 =  [20.]\n",
      "num of category_id 16 =  [6100.]\n",
      "num of category_id 17 =  [4466.]\n",
      "num of category_id 18 =  [2561.]\n",
      "num of category_id 19 =  [12318.]\n",
      "num of category_id 20 =  [296.]\n",
      "num of category_id 21 =  [118.]\n",
      "num of category_id 22 =  [119.]\n"
     ]
    }
   ],
   "source": [
    "import json\n",
    "import yaml\n",
    "import numpy as np\n",
    "import matplotlib.pyplot as plt\n",
    "\n",
    "counters = np.zeros((23,1))\n",
    "with open('labels_original_idaho', 'r') as fout:    \n",
    "    #training_labels = json.load(fout)\n",
    "    training_labels = yaml.safe_load(fout)\n",
    "    for i in range(len(training_labels)):\n",
    "        if training_labels[i]['category_id'] == 1:\n",
    "            counters[1] += 1\n",
    "        if training_labels[i]['category_id'] == 2:\n",
    "            counters[2] += 1\n",
    "        if training_labels[i]['category_id'] == 3:\n",
    "            counters[3] += 1\n",
    "        if training_labels[i]['category_id'] == 4:\n",
    "            counters[4] += 1\n",
    "        if training_labels[i]['category_id'] == 5:\n",
    "            counters[5] += 1\n",
    "        if training_labels[i]['category_id'] == 6:\n",
    "            counters[6] += 1\n",
    "        if training_labels[i]['category_id'] == 7:\n",
    "            counters[7] += 1\n",
    "        if training_labels[i]['category_id'] == 8:\n",
    "            counters[8] += 1\n",
    "        if training_labels[i]['category_id'] == 9:\n",
    "            counters[9] += 1\n",
    "        if training_labels[i]['category_id'] == 10:\n",
    "            counters[10] += 1\n",
    "        if training_labels[i]['category_id'] == 11:\n",
    "            counters[11] += 1\n",
    "        if training_labels[i]['category_id'] == 12:\n",
    "            counters[12] += 1\n",
    "        if training_labels[i]['category_id'] == 13:\n",
    "            counters[13] += 1\n",
    "        if training_labels[i]['category_id'] == 14:\n",
    "            counters[14] += 1\n",
    "        if training_labels[i]['category_id'] == 15:\n",
    "            counters[15] += 1\n",
    "        if training_labels[i]['category_id'] == 16:\n",
    "            counters[16] += 1\n",
    "        if training_labels[i]['category_id'] == 17:\n",
    "            counters[17] += 1\n",
    "        if training_labels[i]['category_id'] == 18:\n",
    "            counters[18] += 1\n",
    "        if training_labels[i]['category_id'] == 19:\n",
    "            counters[19] += 1\n",
    "        if training_labels[i]['category_id'] == 20:\n",
    "            counters[20] += 1\n",
    "        if training_labels[i]['category_id'] == 21:\n",
    "            counters[21] += 1\n",
    "        if training_labels[i]['category_id'] == 22:\n",
    "            counters[22] += 1\n",
    "    for i in range(22):\n",
    "        print(\"num of category_id \" + str(i+1) + \" = \",counters[i+1])\n",
    "    x = np.arange(1,23)        \n",
    "    plt.bar(x, height= [counters[1][0],counters[2][0],counters[3][0],counters[4][0],counters[5][0],counters[6][0],\n",
    "                       counters[7][0],counters[8][0],counters[9][0],counters[10][0],counters[11][0],counters[12][0],\n",
    "                       counters[13][0],counters[14][0],counters[15][0],counters[16][0],counters[17][0],counters[18][0],\n",
    "                       counters[19][0],counters[20][0],counters[12][0],counters[22][0]])\n"
   ]
  },
  {
   "cell_type": "code",
   "execution_count": 3,
   "metadata": {},
   "outputs": [
    {
     "name": "stdout",
     "output_type": "stream",
     "text": [
      "10490.0\n"
     ]
    },
    {
     "data": {
      "text/plain": [
       "<BarContainer object of 22 artists>"
      ]
     },
     "execution_count": 3,
     "metadata": {},
     "output_type": "execute_result"
    },
    {
     "data": {
      "image/png": "[encoded data removed]",
      "text/plain": [
       "<Figure size 432x288 with 1 Axes>"
      ]
     },
     "metadata": {
      "needs_background": "light"
     },
     "output_type": "display_data"
    }
   ],
   "source": [
    "x = np.arange(1,23)\n",
    "plt.bar(x, height= [counters[1][0],counters[2][0],counters[3][0],counters[4][0],counters[5][0],counters[6][0],\n",
    "                       counters[7][0],counters[8][0],counters[9][0],counters[10][0],counters[11][0],counters[12][0],\n",
    "                       counters[13][0],counters[14][0],counters[15][0],counters[16][0],counters[17][0],counters[18][0],\n",
    "                       counters[19][0],counters[20][0],counters[12][0],counters[22][0]])"
   ]
  },
  {
   "cell_type": "markdown",
   "metadata": {},
   "source": [
    "## Test Agumantetion:"
   ]
  },
  {
   "cell_type": "code",
   "execution_count": 24,
   "metadata": {},
   "outputs": [
    {
     "name": "stdout",
     "output_type": "stream",
     "text": [
      "38\n"
     ]
    }
   ],
   "source": [
    "import imgaug as ia\n",
    "from iwild_augmentation import *\n",
    "\n",
    "# read image\n",
    "imag_num = 70000\n",
    "images_path = \"/media/eslam/D0FCBC10FCBBEF3A/iwild_data/training_iamges/my_training_images\"\n",
    "img = cv2.imread(images_path+'/'+training_labels[imag_num]['image_name'],1)\n",
    "\"\"\"\n",
    "cv2.rectangle(img,(int(training_labels[imag_num]['bbox'][0]),int(training_labels[imag_num]['bbox'][1])),\n",
    "              (int(training_labels[imag_num]['bbox'][0]+training_labels[imag_num]['bbox'][2]),\n",
    "               int(training_labels[imag_num]['bbox'][1]+training_labels[imag_num]['bbox'][3])),(0,255,0),3)\n",
    "cv2.imwrite('original.jpg',img)\n",
    "\"\"\"\n",
    "box = [training_labels[imag_num]['bbox'][0],training_labels[imag_num]['bbox'][1],\n",
    "      training_labels[imag_num]['bbox'][2],training_labels[imag_num]['bbox'][3]]\n",
    "# start augmantetion\n",
    "info = augmentation_handler_50(img, box)\n",
    "for l in range(len(info)):\n",
    "    cv2.imwrite('agu_'+'_'+str(l)+training_labels[imag_num]['image_name'],info[l]['image'])\n",
    "    img = cv2.imread('agu_'+'_'+str(l)+training_labels[imag_num]['image_name'],1)\n",
    "    cv2.rectangle(img,(int(list(info[l]['box'])[0]),int(list(info[l]['box'])[1])),\n",
    "                  (int(list(info[l]['box'])[0]+list(info[l]['box'])[2]),\n",
    "                   int(list(info[l]['box'])[1]+list(info[l]['box'])[3])),(0,255,0),3)\n",
    "    cv2.imwrite('agu_'+str(l)+'.jpg',img)\n",
    "print(int(list(info[l]['box'])[0]))"
   ]
  },
  {
   "cell_type": "markdown",
   "metadata": {},
   "source": [
    "## Run Agumantetion (save images + add labels):"
   ]
  },
  {
   "cell_type": "code",
   "execution_count": null,
   "metadata": {},
   "outputs": [],
   "source": [
    "import imgaug as ia\n",
    "from iwild_augmentation import *\n",
    "\n",
    "training_labels_aug = []\n",
    "# read image\n",
    "images_path = \"/media/eslam/D0FCBC10FCBBEF3A/iwild_data/training_iamges/my_training_images\"\n",
    "for time in range(3):\n",
    "    for i in range(len(training_labels)):\n",
    "        print(\"1_\",i)\n",
    "        if training_labels[i]['category_id'] == 2 or training_labels[i]['category_id'] == 15:\n",
    "            img = cv2.imread(images_path+'/'+training_labels[i]['image_name'],1)\n",
    "            box = [training_labels[i]['bbox'][0],training_labels[i]['bbox'][1],\n",
    "                  training_labels[i]['bbox'][2],training_labels[i]['bbox'][3]]\n",
    "            # start augmantetion\n",
    "            info = augmentation_handler_50(img, box)\n",
    "            for l in range(len(info)):\n",
    "                # save agumanted image\n",
    "                cv2.imwrite(images_path+'/'+'agu_'+str(time)+'_'+str(l)+training_labels[i]['image_name'],info[l]['image'])\n",
    "                box_per_image = [int(list(info[l]['box'])[0]), int(list(info[l]['box'])[1]),\n",
    "                                   int(list(info[l]['box'])[2]), int(list(info[l]['box'])[3])]\n",
    "                img = cv2.imread(images_path+'/'+'agu_'+str(time)+'_'+str(l)+training_labels[i]['image_name'],1)\n",
    "                dict = {'image_name':'agu_'+str(time)+'_'+str(l)+training_labels[i]['image_name'],\n",
    "                        'category_id':int(training_labels[i]['category_id']),\n",
    "                        'bbox':box_per_image, 'width':str(img.shape[1]),\n",
    "                        'height':str(img.shape[0])}\n",
    "                training_labels_aug.append(dict)\n",
    "             \n",
    "for time in range(10):\n",
    "    for i in range(len(training_labels)):\n",
    "        print(\"2_\",i)\n",
    "        if training_labels[i]['category_id'] == 6:\n",
    "            img = cv2.imread(images_path+'/'+training_labels[i]['image_name'],1)\n",
    "            box = [training_labels[i]['bbox'][0],training_labels[i]['bbox'][1],\n",
    "                  training_labels[i]['bbox'][2],training_labels[i]['bbox'][3]]\n",
    "            # start augmantetion\n",
    "            info = augmentation_handler_50(img, box)\n",
    "            for l in range(len(info)):\n",
    "                # save agumanted image\n",
    "                cv2.imwrite(images_path+'/'+'agu_'+str(time)+'_'+str(l)+training_labels[i]['image_name'],info[l]['image'])\n",
    "                box = [int(list(info[l]['box'])[0]), int(list(info[l]['box'])[1]),\n",
    "                       int(list(info[l]['box'])[2]), int(list(info[l]['box'])[3])]\n",
    "                img = cv2.imread(images_path+'/'+'agu_'+str(time)+'_'+str(l)+training_labels[i]['image_name'],1)\n",
    "                dict = {'image_name':'agu_'+str(time)+'_'+str(l)+training_labels[i]['image_name'],\n",
    "                        'category_id':int(training_labels[i]['category_id']),\n",
    "                        'bbox':box, 'width':str(img.shape[1]),\n",
    "                        'height':str(img.shape[0])}\n",
    "                training_labels_aug.append(dict)\n",
    "                \n",
    "for time in range(1):\n",
    "    for i in range(len(training_labels)):\n",
    "        print(\"3_\",i)\n",
    "        if training_labels[i]['category_id'] == 7 or training_labels[i]['category_id'] == 9 or \\\n",
    "        training_labels[i]['category_id'] == 20:\n",
    "            img = cv2.imread(images_path+'/'+training_labels[i]['image_name'],1)\n",
    "            box = [training_labels[i]['bbox'][0],training_labels[i]['bbox'][1],\n",
    "                  training_labels[i]['bbox'][2],training_labels[i]['bbox'][3]]\n",
    "            # start augmantetion\n",
    "            info = augmentation_handler_10(img, box)\n",
    "            for l in range(len(info)):\n",
    "                # save agumanted image\n",
    "                cv2.imwrite(images_path+'/'+'agu_'+str(time)+'_'+str(l)+training_labels[i]['image_name'],info[l]['image'])\n",
    "                box = [int(list(info[l]['box'])[0]), int(list(info[l]['box'])[1]),\n",
    "                       int(list(info[l]['box'])[2]), int(list(info[l]['box'])[3])]\n",
    "                img = cv2.imread(images_path+'/'+'agu_'+str(time)+'_'+str(l)+training_labels[i]['image_name'],1)\n",
    "                dict = {'image_name':'agu_'+str(time)+'_'+str(l)+training_labels[i]['image_name'],\n",
    "                        'category_id':int(training_labels[i]['category_id']),\n",
    "                        'bbox':box, 'width':str(img.shape[1]),\n",
    "                        'height':str(img.shape[0])}\n",
    "                training_labels_aug.append(dict)\n",
    "                \n",
    "for time in range(3):\n",
    "    for i in range(len(training_labels)):\n",
    "        print(\"4_\",i)\n",
    "        if training_labels[i]['category_id'] == 21 or training_labels[i]['category_id'] == 22:\n",
    "            img = cv2.imread(images_path+'/'+training_labels[i]['image_name'],1)\n",
    "            box = [training_labels[i]['bbox'][0],training_labels[i]['bbox'][1],\n",
    "                  training_labels[i]['bbox'][2],training_labels[i]['bbox'][3]]\n",
    "            # start augmantetion\n",
    "            info = augmentation_handler_10(img, box)\n",
    "            for l in range(len(info)):\n",
    "                # save agumanted image\n",
    "                cv2.imwrite(images_path+'/'+'agu_'+str(time)+'_'+str(l)+training_labels[i]['image_name'],info[l]['image'])\n",
    "                box = [int(list(info[l]['box'])[0]), int(list(info[l]['box'])[1]),\n",
    "                       int(list(info[l]['box'])[2]), int(list(info[l]['box'])[3])]\n",
    "                img = cv2.imread(images_path+'/'+'agu_'+str(time)+'_'+str(l)+training_labels[i]['image_name'],1)\n",
    "                dict = {'image_name':'agu_'+str(time)+'_'+str(l)+training_labels[i]['image_name'],\n",
    "                        'category_id':int(training_labels[i]['category_id']),\n",
    "                        'bbox':box, 'width':str(img.shape[1]),\n",
    "                        'height':str(img.shape[0])}\n",
    "                training_labels_aug.append(dict)\n",
    "       \n",
    "for time in range(1):\n",
    "    for i in range(len(training_labels)):\n",
    "        print(\"5_\",i)\n",
    "        if training_labels[i]['category_id'] == 12:\n",
    "            img = cv2.imread(images_path+'/'+training_labels[i]['image_name'],1)\n",
    "            box = [training_labels[i]['bbox'][0],training_labels[i]['bbox'][1],\n",
    "                  training_labels[i]['bbox'][2],training_labels[i]['bbox'][3]]\n",
    "            # start augmantetion\n",
    "            info = augmentation_handler_5(img, box)\n",
    "            for l in range(len(info)):\n",
    "                # save agumanted image\n",
    "                cv2.imwrite(images_path+'/'+'agu_'+str(time)+'_'+str(l)+training_labels[i]['image_name'],info[l]['image'])\n",
    "                box = [int(list(info[l]['box'])[0]), int(list(info[l]['box'])[1]),\n",
    "                       int(list(info[l]['box'])[2]), int(list(info[l]['box'])[3])]\n",
    "                img = cv2.imread(images_path+'/'+'agu_'+str(time)+'_'+str(l)+training_labels[i]['image_name'],1)\n",
    "                dict = {'image_name':'agu_'+str(time)+'_'+str(l)+training_labels[i]['image_name'],\n",
    "                        'category_id':int(training_labels[i]['category_id']),\n",
    "                        'bbox':box, 'width':str(img.shape[1]),\n",
    "                        'height':str(img.shape[0])}\n",
    "                training_labels_aug.append(dict)\n"
   ]
  },
  {
   "cell_type": "code",
   "execution_count": 49,
   "metadata": {},
   "outputs": [
    {
     "name": "stdout",
     "output_type": "stream",
     "text": [
      "{'height': '449', 'width': '800', 'category_id': 15, 'image_name': 'agu_2_0e8ef3fbe3e8c077781f150f4d8aa8ab6.jpg', 'bbox': [210, 235, 365, 294]}\n",
      "{'height': '747', 'width': '1024', 'category_id': 19, 'image_name': '5998cfa4-23d2-11e8-a6a3-ec086b02610b.jpg', 'bbox': [249.6, 355.84, 176.64000000000001, 99.83999999999997]}\n"
     ]
    }
   ],
   "source": [
    "print(training_labels_aug[5000])\n",
    "print(training_labels[0])"
   ]
  },
  {
   "cell_type": "code",
   "execution_count": 26,
   "metadata": {},
   "outputs": [
    {
     "name": "stdout",
     "output_type": "stream",
     "text": [
      "111333\n",
      "107525\n"
     ]
    }
   ],
   "source": [
    "import os\n",
    "\n",
    "images_path = \"/media/eslam/D0FCBC10FCBBEF3A/iwild_data/training_iamges/my_training_images\"\n",
    "images_name = os.listdir(images_path)\n",
    "print(len(images_name))\n",
    "print(len(training_labels)+len(training_labels_aug))"
   ]
  },
  {
   "cell_type": "code",
   "execution_count": 27,
   "metadata": {},
   "outputs": [],
   "source": [
    "# Saving Aug labels only\n",
    "import json\n",
    "\n",
    "with open('aug_labels_only', 'w') as fout:\n",
    "    json.dump(training_labels_aug, fout)"
   ]
  },
  {
   "cell_type": "code",
   "execution_count": 28,
   "metadata": {},
   "outputs": [
    {
     "data": {
      "text/plain": [
       "True"
      ]
     },
     "execution_count": 28,
     "metadata": {},
     "output_type": "execute_result"
    }
   ],
   "source": [
    "imag_num = 500\n",
    "images_path = \"/media/eslam/D0FCBC10FCBBEF3A/iwild_data/training_iamges/my_training_images\"\n",
    "img = cv2.imread(images_path+'/'+training_labels_aug[imag_num]['image_name'],1)\n",
    "cv2.rectangle(img,(int(training_labels_aug[imag_num]['bbox'][0]),int(training_labels_aug[imag_num]['bbox'][1])),\n",
    "              (int(training_labels_aug[imag_num]['bbox'][0]+training_labels_aug[imag_num]['bbox'][2]),\n",
    "               int(training_labels_aug[imag_num]['bbox'][1]+training_labels_aug[imag_num]['bbox'][3])),(0,255,0),3)\n",
    "\n",
    "cv2.imwrite('test_aug.png',img)"
   ]
  },
  {
   "cell_type": "code",
   "execution_count": null,
   "metadata": {},
   "outputs": [],
   "source": [
    "for i in range(len(training_labels_aug)):\n",
    "    training_labels.append(training_labels_aug[i])"
   ]
  },
  {
   "cell_type": "code",
   "execution_count": 29,
   "metadata": {},
   "outputs": [],
   "source": [
    "training_labels.extend(training_labels_aug)"
   ]
  },
  {
   "cell_type": "code",
   "execution_count": 30,
   "metadata": {},
   "outputs": [
    {
     "name": "stdout",
     "output_type": "stream",
     "text": [
      "111333\n",
      "107525\n"
     ]
    }
   ],
   "source": [
    "import os\n",
    "\n",
    "images_path = \"/media/eslam/D0FCBC10FCBBEF3A/iwild_data/training_iamges/my_training_images\"\n",
    "images_name = os.listdir(images_path)\n",
    "print(len(images_name))\n",
    "print(len(training_labels))"
   ]
  },
  {
   "cell_type": "code",
   "execution_count": 18,
   "metadata": {},
   "outputs": [
    {
     "data": {
      "text/plain": [
       "{u'bbox': [249.6, 355.84, 176.64000000000001, 99.83999999999997],\n",
       " u'category_id': 19,\n",
       " u'height': u'747',\n",
       " u'image_name': u'5998cfa4-23d2-11e8-a6a3-ec086b02610b.jpg',\n",
       " u'width': u'1024'}"
      ]
     },
     "execution_count": 18,
     "metadata": {},
     "output_type": "execute_result"
    }
   ],
   "source": [
    "import yaml\n",
    "training_labels[0]\n",
    "#yaml.safe_load(list_dump)"
   ]
  },
  {
   "cell_type": "code",
   "execution_count": 32,
   "metadata": {},
   "outputs": [],
   "source": [
    "import json\n",
    "\n",
    "with open('my_labels_with_aug', 'w') as fout:\n",
    "    json.dump(training_labels, fout)"
   ]
  },
  {
   "cell_type": "code",
   "execution_count": 5,
   "metadata": {},
   "outputs": [
    {
     "name": "stdout",
     "output_type": "stream",
     "text": [
      "num of category_id 1 =  [10490.]\n",
      "num of category_id 2 =  [3020.]\n",
      "num of category_id 3 =  [6934.]\n",
      "num of category_id 4 =  [1927.]\n",
      "num of category_id 5 =  [2314.]\n",
      "num of category_id 6 =  [3507.]\n",
      "num of category_id 7 =  [4301.]\n",
      "num of category_id 8 =  [7915.]\n",
      "num of category_id 9 =  [2541.]\n",
      "num of category_id 10 =  [2148.]\n",
      "num of category_id 11 =  [8286.]\n",
      "num of category_id 12 =  [3978.]\n",
      "num of category_id 13 =  [9275.]\n",
      "num of category_id 14 =  [1821.]\n",
      "num of category_id 15 =  [3020.]\n",
      "num of category_id 16 =  [6100.]\n",
      "num of category_id 17 =  [4466.]\n",
      "num of category_id 18 =  [2561.]\n",
      "num of category_id 19 =  [12318.]\n",
      "num of category_id 20 =  [3256.]\n",
      "num of category_id 21 =  [3658.]\n",
      "num of category_id 22 =  [3689.]\n"
     ]
    },
    {
     "data": {
      "image/png": "[encoded data removed]",
      "text/plain": [
       "<Figure size 432x288 with 1 Axes>"
      ]
     },
     "metadata": {
      "needs_background": "light"
     },
     "output_type": "display_data"
    }
   ],
   "source": [
    "import json\n",
    "import yaml\n",
    "import numpy as np\n",
    "import matplotlib.pyplot as plt\n",
    "\n",
    "counters = np.zeros((23,1))\n",
    "with open('my_labels_with_aug', 'r') as fout:    \n",
    "    #training_labels = json.load(fout)\n",
    "    training_labels = yaml.safe_load(fout)\n",
    "    for i in range(len(training_labels)):\n",
    "        if training_labels[i]['category_id'] == 1:\n",
    "            counters[1] += 1\n",
    "        if training_labels[i]['category_id'] == 2:\n",
    "            counters[2] += 1\n",
    "        if training_labels[i]['category_id'] == 3:\n",
    "            counters[3] += 1\n",
    "        if training_labels[i]['category_id'] == 4:\n",
    "            counters[4] += 1\n",
    "        if training_labels[i]['category_id'] == 5:\n",
    "            counters[5] += 1\n",
    "        if training_labels[i]['category_id'] == 6:\n",
    "            counters[6] += 1\n",
    "        if training_labels[i]['category_id'] == 7:\n",
    "            counters[7] += 1\n",
    "        if training_labels[i]['category_id'] == 8:\n",
    "            counters[8] += 1\n",
    "        if training_labels[i]['category_id'] == 9:\n",
    "            counters[9] += 1\n",
    "        if training_labels[i]['category_id'] == 10:\n",
    "            counters[10] += 1\n",
    "        if training_labels[i]['category_id'] == 11:\n",
    "            counters[11] += 1\n",
    "        if training_labels[i]['category_id'] == 12:\n",
    "            counters[12] += 1\n",
    "        if training_labels[i]['category_id'] == 13:\n",
    "            counters[13] += 1\n",
    "        if training_labels[i]['category_id'] == 14:\n",
    "            counters[14] += 1\n",
    "        if training_labels[i]['category_id'] == 15:\n",
    "            counters[15] += 1\n",
    "        if training_labels[i]['category_id'] == 16:\n",
    "            counters[16] += 1\n",
    "        if training_labels[i]['category_id'] == 17:\n",
    "            counters[17] += 1\n",
    "        if training_labels[i]['category_id'] == 18:\n",
    "            counters[18] += 1\n",
    "        if training_labels[i]['category_id'] == 19:\n",
    "            counters[19] += 1\n",
    "        if training_labels[i]['category_id'] == 20:\n",
    "            counters[20] += 1\n",
    "        if training_labels[i]['category_id'] == 21:\n",
    "            counters[21] += 1\n",
    "        if training_labels[i]['category_id'] == 22:\n",
    "            counters[22] += 1\n",
    "    for i in range(22):\n",
    "            print(\"num of category_id \" + str(i+1) + \" = \",counters[i+1])\n",
    "    x = np.arange(1,23)        \n",
    "    plt.bar(x, height= [counters[1][0],counters[2][0],counters[3][0],counters[4][0],counters[5][0],counters[6][0],\n",
    "                       counters[7][0],counters[8][0],counters[9][0],counters[10][0],counters[11][0],counters[12][0],\n",
    "                       counters[13][0],counters[14][0],counters[15][0],counters[16][0],counters[17][0],counters[18][0],\n",
    "                       counters[19][0],counters[20][0],counters[12][0],counters[22][0]])"
   ]
  },
  {
   "cell_type": "markdown",
   "metadata": {},
   "source": [
    "# Convert labels to YOLO format:"
   ]
  },
  {
   "cell_type": "code",
   "execution_count": 1,
   "metadata": {},
   "outputs": [
    {
     "name": "stdout",
     "output_type": "stream",
     "text": [
      "107525\n",
      "height\n",
      "width\n",
      "category_id\n",
      "image_name\n",
      "bbox\n"
     ]
    }
   ],
   "source": [
    "import yaml\n",
    "\n",
    "with open('my_labels_with_aug', 'r') as fout:    \n",
    "    training_labels = yaml.safe_load(fout)\n",
    "    print(len(training_labels))\n",
    "    for key in training_labels[0].keys():\n",
    "        print(key)"
   ]
  },
  {
   "cell_type": "code",
   "execution_count": 5,
   "metadata": {},
   "outputs": [],
   "source": [
    "images_path = \"/media/eslam/D0FCBC10FCBBEF3A/iwild_data/training_iamges/my_training_images\"\n",
    "f=open(\"train.txt\", \"a+\")\n",
    "val=open(\"val.txt\", \"a+\")\n",
    "train_count = 0\n",
    "val_count = 0\n",
    "for i in range(len(training_labels)):\n",
    "    if training_labels[i]['bbox'][2]+training_labels[i]['bbox'][0] >= int(training_labels[i]['width'])-10:\n",
    "        w = int(training_labels[i]['width']) - 5\n",
    "    else:\n",
    "        w = training_labels[i]['bbox'][2]+training_labels[i]['bbox'][0]\n",
    "    if training_labels[i]['bbox'][3]+training_labels[i]['bbox'][1] >= int(training_labels[i]['height'])-10:\n",
    "        h = int(training_labels[i]['height']) - 5\n",
    "    else:\n",
    "        h = training_labels[i]['bbox'][3]+training_labels[i]['bbox'][1]\n",
    "    if training_labels[i]['bbox'][0] <= 0:\n",
    "        training_labels[i]['bbox'][0] = 1\n",
    "    if training_labels[i]['bbox'][1] <= 0:\n",
    "        training_labels[i]['bbox'][1] = 1\n",
    "    if training_labels[i]['bbox'][0] >= w or training_labels[i]['bbox'][1] >= h:\n",
    "        continue\n",
    "    if i % 9999999999999 == 0:\n",
    "        val.write(\"%d %s %d %d %d %d %d\\r\\n\" %(val_count ,(images_path+'/'+training_labels[i]['image_name']) ,\n",
    "                                               training_labels[i]['category_id']-1 ,\n",
    "                                               training_labels[i]['bbox'][0] ,\n",
    "                                               training_labels[i]['bbox'][1] ,\n",
    "                                               w  , h))\n",
    "        val_count += 1\n",
    "    else:\n",
    "        f.write(\"%d %s %d %d %d %d %d\\r\\n\" %(train_count ,(images_path+'/'+training_labels[i]['image_name']) ,\n",
    "                                                   training_labels[i]['category_id']-1 ,\n",
    "                                                   training_labels[i]['bbox'][0] ,\n",
    "                                                   training_labels[i]['bbox'][1] ,\n",
    "                                                   w  , h))\n",
    "        train_count += 1\n",
    "    \n",
    "    \n",
    "f.close()"
   ]
  },
  {
   "cell_type": "code",
   "execution_count": 4,
   "metadata": {},
   "outputs": [],
   "source": [
    "images_path = \"/media/eslam/D0FCBC10FCBBEF3A/iwild_data/training_iamges/my_training_images\"\n",
    "f=open(\"train.txt\", \"a+\")\n",
    "val=open(\"test.txt\", \"a+\")\n",
    "train_count = 0\n",
    "val_count = 0\n",
    "for i in range(len(training_labels)):\n",
    "    if training_labels[i]['bbox'][2]+training_labels[i]['bbox'][0] >= int(training_labels[i]['width'])-10:\n",
    "        w = int(training_labels[i]['width']) - 11\n",
    "    else:\n",
    "        w = training_labels[i]['bbox'][2]+training_labels[i]['bbox'][0]\n",
    "    if training_labels[i]['bbox'][3]+training_labels[i]['bbox'][1] >= int(training_labels[i]['height'])-10:\n",
    "        h = int(training_labels[i]['height']) - 11\n",
    "    else:\n",
    "        h = training_labels[i]['bbox'][3]+training_labels[i]['bbox'][1]\n",
    "    if training_labels[i]['bbox'][0] <= 5:\n",
    "        training_labels[i]['bbox'][0] = 6\n",
    "    if training_labels[i]['bbox'][1] <= 5:\n",
    "        training_labels[i]['bbox'][1] = 6\n",
    "    if i % 999999999999 == 0:\n",
    "        val.write(\"%s %d,%d,%d,%d,%d\\r\\n\" %((images_path+'/'+training_labels[i]['image_name']),\n",
    "                                               training_labels[i]['bbox'][0] , training_labels[i]['bbox'][1],\n",
    "                                               w, h, training_labels[i]['category_id']-1))\n",
    "        val_count += 1\n",
    "    else:\n",
    "        f.write(\"%s %d,%d,%d,%d,%d\\r\\n\" %((images_path+'/'+training_labels[i]['image_name']),\n",
    "                                                   training_labels[i]['bbox'][0] , training_labels[i]['bbox'][1],\n",
    "                                                   w  , h, training_labels[i]['category_id']-1 ))\n",
    "        train_count += 1\n",
    "    \n",
    "    \n",
    "f.close()"
   ]
  },
  {
   "cell_type": "code",
   "execution_count": null,
   "metadata": {},
   "outputs": [],
   "source": []
  }
 ],
 "metadata": {
  "kernelspec": {
   "display_name": "Python 3",
   "language": "python",
   "name": "python3"
  },
  "language_info": {
   "codemirror_mode": {
    "name": "ipython",
    "version": 3
   },
   "file_extension": ".py",
   "mimetype": "text/x-python",
   "name": "python",
   "nbconvert_exporter": "python",
   "pygments_lexer": "ipython3",
   "version": "3.5.2"
  }
 },
 "nbformat": 4,
 "nbformat_minor": 2
}
