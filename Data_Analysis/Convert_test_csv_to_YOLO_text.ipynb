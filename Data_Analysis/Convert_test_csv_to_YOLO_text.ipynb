{
 "cells": [
  {
   "cell_type": "markdown",
   "metadata": {},
   "source": [
    "# Convert csv file to text to run on yolo"
   ]
  },
  {
   "cell_type": "code",
   "execution_count": 53,
   "metadata": {},
   "outputs": [],
   "source": [
    "# read file\n",
    "import csv\n",
    "\n",
    "csv_test = open(\"/media/eslam/D0FCBC10FCBBEF3A/iwild_data/test_images/test.csv\", \"r\")\n",
    "test_data = csv.reader(csv_test)"
   ]
  },
  {
   "cell_type": "code",
   "execution_count": 54,
   "metadata": {},
   "outputs": [
    {
     "name": "stdout",
     "output_type": "stream",
     "text": [
      "153730\n"
     ]
    }
   ],
   "source": [
    "count = 0\n",
    "for i, row in enumerate(test_data):\n",
    "    # 1 image_name  /  3 image_id\n",
    "    if i == 0:\n",
    "        continue\n",
    "    count += 1\n",
    "print(count)"
   ]
  },
  {
   "cell_type": "code",
   "execution_count": 6,
   "metadata": {},
   "outputs": [],
   "source": [
    "# convert it to match YOLO format\n",
    "\n",
    "images_path = \"/media/eslam/D0FCBC10FCBBEF3A/iwild_data/test_images/test_images/\"\n",
    "f=open(\"test.txt\", \"a+\")\n",
    "test_count = 0\n",
    "for i, row in enumerate(test_data):\n",
    "    f.write(\"%d %s %d %d %d %d %d\\r\\n\" %(test_count ,(images_path + row[1]) , 0, 1, 1, 2, 2))\n",
    "    test_count += 1\n",
    "f.close()"
   ]
  },
  {
   "cell_type": "markdown",
   "metadata": {},
   "source": [
    "# Convert results from text to csv:"
   ]
  },
  {
   "cell_type": "code",
   "execution_count": 2,
   "metadata": {},
   "outputs": [
    {
     "name": "stdout",
     "output_type": "stream",
     "text": [
      "153730\n"
     ]
    }
   ],
   "source": [
    "f=open(\"out.txt\", \"r\")\n",
    "contents =f.readlines()\n",
    "print(len(contents))\n"
   ]
  },
  {
   "cell_type": "code",
   "execution_count": 38,
   "metadata": {},
   "outputs": [
    {
     "data": {
      "text/plain": [
       "'89994900-2c22-11e9-bcad-06f10d5896c4'"
      ]
     },
     "execution_count": 38,
     "metadata": {},
     "output_type": "execute_result"
    }
   ],
   "source": [
    "int(contents[300].split(' ')[1])\n",
    "row[1].split('.')[0]"
   ]
  },
  {
   "cell_type": "code",
   "execution_count": 5,
   "metadata": {},
   "outputs": [
    {
     "name": "stdout",
     "output_type": "stream",
     "text": [
      "153730\n"
     ]
    }
   ],
   "source": [
    "import csv\n",
    "\n",
    "csv_test = open(\"/media/eslam/D0FCBC10FCBBEF3A/iwild_data/test_images/test.csv\", \"r\")\n",
    "test_data = csv.reader(csv_test)\n",
    "count = 0\n",
    "for i, row in enumerate(test_data):\n",
    "    # 1 image_name  /  3 image_id\n",
    "    if i == 0:\n",
    "        continue\n",
    "    count += 1\n",
    "print(count)\n",
    "\n",
    "csv_test = open(\"/media/eslam/D0FCBC10FCBBEF3A/iwild_data/test_images/test.csv\", \"r\")\n",
    "test_data = csv.reader(csv_test)\n",
    "employee_file = open('out.csv', mode='w')\n",
    "employee_writer = csv.writer(employee_file, delimiter=',', quotechar='\"', quoting=csv.QUOTE_MINIMAL)\n",
    "\n",
    "for i, row in enumerate(test_data):\n",
    "    if i == 0:\n",
    "        employee_writer.writerow(['Id', 'Predicted'])\n",
    "        continue\n",
    "    employee_writer.writerow([row[1].split('.')[0], int(contents[i-1].split(' ')[1])])\n",
    "f.close()"
   ]
  },
  {
   "cell_type": "code",
   "execution_count": 6,
   "metadata": {},
   "outputs": [
    {
     "name": "stdout",
     "output_type": "stream",
     "text": [
      "153731\n"
     ]
    }
   ],
   "source": [
    "csv_test = open(\"out.csv\", \"r\")\n",
    "test_data = csv.reader(csv_test)\n",
    "count = 0\n",
    "for i, row in enumerate(test_data):\n",
    "    # 1 image_name  /  3 image_id\n",
    "    count += 1\n",
    "print(count)"
   ]
  },
  {
   "cell_type": "code",
   "execution_count": null,
   "metadata": {},
   "outputs": [],
   "source": []
  }
 ],
 "metadata": {
  "kernelspec": {
   "display_name": "Python 3",
   "language": "python",
   "name": "python3"
  },
  "language_info": {
   "codemirror_mode": {
    "name": "ipython",
    "version": 3
   },
   "file_extension": ".py",
   "mimetype": "text/x-python",
   "name": "python",
   "nbconvert_exporter": "python",
   "pygments_lexer": "ipython3",
   "version": "3.5.2"
  }
 },
 "nbformat": 4,
 "nbformat_minor": 2
}
